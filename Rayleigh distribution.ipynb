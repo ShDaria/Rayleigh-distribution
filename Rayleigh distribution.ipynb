{
 "cells": [
  {
   "cell_type": "code",
   "execution_count": 13,
   "id": "worst-possession",
   "metadata": {},
   "outputs": [],
   "source": [
    "import random\n",
    "import math\n",
    "def reverse_transformation(x):\n",
    "    return math.sqrt((-1)*2*sigma**2*math.log(1-x))\n",
    "sigma = 3\n",
    "list = []\n",
    "for i in range(0, 10000):\n",
    "    x = random.random()\n",
    "    list.append(reverse_transformation(x))"
   ]
  },
  {
   "cell_type": "code",
   "execution_count": 18,
   "id": "adolescent-killer",
   "metadata": {},
   "outputs": [
    {
     "data": {
      "text/plain": [
       "(array([ 16.,  30.,  47.,  80.,  80.,  93., 124., 128., 148., 167., 150.,\n",
       "        188., 182., 190., 234., 225., 211., 234., 245., 235., 235., 236.,\n",
       "        244., 276., 242., 233., 246., 219., 232., 230., 231., 228., 212.,\n",
       "        214., 203., 219., 188., 198., 180., 172., 161., 159., 161., 167.,\n",
       "        149., 134., 132., 111., 119.,  92., 112.,  77.,  82.,  86.,  77.,\n",
       "         77.,  68.,  59.,  43.,  50.,  45.,  38.,  42.,  43.,  35.,  21.,\n",
       "         18.,  13.,  18.,  21.,  12.,  16.,  17.,   8.,   9.,  10.,   7.,\n",
       "          5.,   8.,   8.,   8.,   5.,   3.,   6.,   4.,   2.,   2.,   2.,\n",
       "          1.,   3.,   1.,   1.,   2.,   0.,   0.,   0.,   0.,   3.,   0.,\n",
       "          2.]),\n",
       " array([ 0.0346834 ,  0.15845835,  0.2822333 ,  0.40600824,  0.52978319,\n",
       "         0.65355814,  0.77733308,  0.90110803,  1.02488297,  1.14865792,\n",
       "         1.27243287,  1.39620781,  1.51998276,  1.6437577 ,  1.76753265,\n",
       "         1.8913076 ,  2.01508254,  2.13885749,  2.26263243,  2.38640738,\n",
       "         2.51018233,  2.63395727,  2.75773222,  2.88150717,  3.00528211,\n",
       "         3.12905706,  3.252832  ,  3.37660695,  3.5003819 ,  3.62415684,\n",
       "         3.74793179,  3.87170673,  3.99548168,  4.11925663,  4.24303157,\n",
       "         4.36680652,  4.49058146,  4.61435641,  4.73813136,  4.8619063 ,\n",
       "         4.98568125,  5.1094562 ,  5.23323114,  5.35700609,  5.48078103,\n",
       "         5.60455598,  5.72833093,  5.85210587,  5.97588082,  6.09965576,\n",
       "         6.22343071,  6.34720566,  6.4709806 ,  6.59475555,  6.71853049,\n",
       "         6.84230544,  6.96608039,  7.08985533,  7.21363028,  7.33740522,\n",
       "         7.46118017,  7.58495512,  7.70873006,  7.83250501,  7.95627996,\n",
       "         8.0800549 ,  8.20382985,  8.32760479,  8.45137974,  8.57515469,\n",
       "         8.69892963,  8.82270458,  8.94647952,  9.07025447,  9.19402942,\n",
       "         9.31780436,  9.44157931,  9.56535425,  9.6891292 ,  9.81290415,\n",
       "         9.93667909, 10.06045404, 10.18422899, 10.30800393, 10.43177888,\n",
       "        10.55555382, 10.67932877, 10.80310372, 10.92687866, 11.05065361,\n",
       "        11.17442855, 11.2982035 , 11.42197845, 11.54575339, 11.66952834,\n",
       "        11.79330328, 11.91707823, 12.04085318, 12.16462812, 12.28840307,\n",
       "        12.41217802]),\n",
       " <BarContainer object of 100 artists>)"
      ]
     },
     "execution_count": 18,
     "metadata": {},
     "output_type": "execute_result"
    },
    {
     "data": {
      "image/png": "[encoded data removed]",
      "text/plain": [
       "<Figure size 432x288 with 1 Axes>"
      ]
     },
     "metadata": {
      "needs_background": "light"
     },
     "output_type": "display_data"
    }
   ],
   "source": [
    "import matplotlib.pyplot as plt\n",
    "plt.hist(list, bins=100)"
   ]
  },
  {
   "cell_type": "code",
   "execution_count": null,
   "id": "agreed-rider",
   "metadata": {},
   "outputs": [],
   "source": []
  }
 ],
 "metadata": {
  "kernelspec": {
   "display_name": "Python 3",
   "language": "python",
   "name": "python3"
  },
  "language_info": {
   "codemirror_mode": {
    "name": "ipython",
    "version": 3
   },
   "file_extension": ".py",
   "mimetype": "text/x-python",
   "name": "python",
   "nbconvert_exporter": "python",
   "pygments_lexer": "ipython3",
   "version": "3.9.2"
  }
 },
 "nbformat": 4,
 "nbformat_minor": 5
}
